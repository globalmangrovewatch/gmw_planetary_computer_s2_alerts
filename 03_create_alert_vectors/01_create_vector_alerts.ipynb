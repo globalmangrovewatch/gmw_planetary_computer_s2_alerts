{
 "cells": [
  {
   "cell_type": "code",
   "execution_count": 1,
   "id": "8049bb4a-b409-4bfe-9be3-13c667977651",
   "metadata": {},
   "outputs": [],
   "source": [
    "import os\n",
    "import numpy\n",
    "import datetime\n",
    "import json\n",
    "from pathlib import Path\n",
    "import rasterio\n",
    "import geopandas\n",
    "import pandas\n",
    "import fiona\n",
    "import calendar\n",
    "from azure.storage.blob import BlobClient, ContainerClient\n",
    "from tqdm.notebook import tqdm"
   ]
  },
  {
   "cell_type": "code",
   "execution_count": 2,
   "id": "2a872cd5-fc19-4e1e-a9c7-ec1c0acfe323",
   "metadata": {},
   "outputs": [],
   "source": [
    "def find_month_end_date(year, month):\n",
    "    cal = calendar.Calendar()\n",
    "    month_days = cal.monthdayscalendar(year, month)\n",
    "    max_day_month = numpy.array(month_days).flatten().max()\n",
    "    return max_day_month\n",
    "\n",
    "def zero_pad_num_str(\n",
    "    num_val: float,\n",
    "    str_len: int = 3,\n",
    "    round_num: bool = False,\n",
    "    round_n_digts: int = 0,\n",
    "    integerise: bool = False,\n",
    "    absolute: bool = False,\n",
    "    gain: float = 1,\n",
    ") -> str:\n",
    "    if absolute:\n",
    "        num_val = abs(num_val)\n",
    "    if round_num:\n",
    "        num_val = round(num_val, round_n_digts)\n",
    "    if integerise:\n",
    "        num_val = int(num_val * gain)\n",
    "\n",
    "    num_str = \"{}\".format(num_val)\n",
    "    num_str = num_str.zfill(str_len)\n",
    "    return num_str"
   ]
  },
  {
   "cell_type": "code",
   "execution_count": 3,
   "id": "16b756fc-6722-40f8-a9ab-43938c193c55",
   "metadata": {},
   "outputs": [],
   "source": [
    "def create_alert_gdf(alerts_img, alerts_meta_img):\n",
    "    alerts_ds = rasterio.open(alerts_img)\n",
    "    alerts_meta_ds = rasterio.open(alerts_meta_img)\n",
    "    \n",
    "    alerts_arr = alerts_ds.read(1)\n",
    "    score_arr = alerts_meta_ds.read(1)\n",
    "    year_arr = alerts_meta_ds.read(2)\n",
    "    month_arr = alerts_meta_ds.read(3)\n",
    "    \n",
    "    height = alerts_arr.shape[0]\n",
    "    width = alerts_arr.shape[1]\n",
    "    cols, rows = numpy.meshgrid(numpy.arange(width), numpy.arange(height))\n",
    "    xs, ys = rasterio.transform.xy(alerts_ds.transform, rows, cols)\n",
    "    lons_arr = numpy.array(xs)\n",
    "    lats_arr = numpy.array(ys)\n",
    "    \n",
    "    alerts_arr = alerts_arr.flatten()\n",
    "    score_arr = score_arr.flatten()\n",
    "    year_arr = year_arr.flatten()\n",
    "    month_arr = month_arr.flatten()\n",
    "    lons_arr = lons_arr.flatten()\n",
    "    lats_arr = lats_arr.flatten()\n",
    "        \n",
    "    score_arr = score_arr[alerts_arr == 1]\n",
    "    year_arr = year_arr[alerts_arr == 1]\n",
    "    month_arr = month_arr[alerts_arr == 1]\n",
    "    lons_arr = lons_arr[alerts_arr == 1]\n",
    "    lats_arr = lats_arr[alerts_arr == 1]\n",
    "    \n",
    "    dates_list = list()\n",
    "    for year_val, month_val in zip(year_arr, month_arr):\n",
    "        day_val = find_month_end_date(year_val, month_val)\n",
    "        dates_list.append(datetime.datetime(year_val, month_val, day_val))\n",
    "        \n",
    "    if score_arr.shape[0] > 0:\n",
    "        vec_data = dict()\n",
    "        vec_data[\"score\"] = score_arr\n",
    "        vec_data[\"year\"] = year_arr\n",
    "        vec_data[\"month\"] = month_arr\n",
    "        vec_data[\"date\"] = dates_list\n",
    "        vec_data[\"lons\"] = lons_arr\n",
    "        vec_data[\"lats\"] = lats_arr\n",
    "        alerts_gdf = geopandas.GeoDataFrame(vec_data, geometry=geopandas.points_from_xy(lons_arr, lats_arr))\n",
    "        return alerts_gdf\n",
    "    return None\n",
    "        "
   ]
  },
  {
   "cell_type": "code",
   "execution_count": 4,
   "id": "94388a56-e547-4e5b-a2bd-8a0ead8f31e0",
   "metadata": {},
   "outputs": [],
   "source": [
    "def create_monthly_alerts_vec(year, month, out_vec_file, out_vec_lyr, out_vec_pq_file, tiles, sas_token_info):\n",
    "    month_str = zero_pad_num_str(month, str_len=2)\n",
    "    tile_alerts_lst = list()\n",
    "    for tile in tqdm(tiles):\n",
    "        meta_img = f\"gmw_{tile}_{year}{month_str}_chg_alerts_meta.tif\"\n",
    "        meta_img_file_url = os.path.join(sas_token_info[\"url\"], \"monthly_change_imgs\", meta_img)\n",
    "        meta_img_file_url_signed = f\"{meta_img_file_url}?{sas_token_info['sas_token']}\"\n",
    "        meta_img_exists =  BlobClient.from_blob_url(meta_img_file_url_signed).exists()\n",
    "        \n",
    "        alerts_img = f\"gmw_{tile}_{year}{month_str}_chg_alerts.tif\"\n",
    "        alerts_img_file_url = os.path.join(sas_token_info[\"url\"], \"monthly_change_imgs\", alerts_img)\n",
    "        alerts_img_file_url_signed = f\"{alerts_img_file_url}?{sas_token_info['sas_token']}\"\n",
    "        alerts_img_exists =  BlobClient.from_blob_url(alerts_img_file_url_signed).exists()\n",
    "        if meta_img_exists and alerts_img_exists:\n",
    "            tile_alerts_gdf = create_alert_gdf(alerts_img_file_url_signed, meta_img_file_url_signed)\n",
    "            if tile_alerts_gdf is not None:\n",
    "                tile_alerts_lst.append(tile_alerts_gdf)\n",
    "    if len(tile_alerts_lst) > 0:\n",
    "        alerts_gpf = pandas.concat(tile_alerts_lst)\n",
    "        if len(alerts_gpf) > 0:\n",
    "            alerts_gpf.to_file(out_vec_file, layer=out_vec_lyr, driver=\"GPKG\")\n",
    "            alerts_gpf.to_parquet(out_vec_pq_file, compression='gzip')\n",
    "        else:\n",
    "            print(f\"No alerts for {year}-{month}: Something has probably gone wrong!\")\n",
    "    else:\n",
    "        print(f\"No alerts for {year}-{month}: Something has probably gone wrong!\")"
   ]
  },
  {
   "cell_type": "code",
   "execution_count": 5,
   "id": "e3437088-c381-4873-8bfd-4fe329e7c326",
   "metadata": {},
   "outputs": [],
   "source": [
    "def create_gmw_alert_vecs(s_year, s_month, e_year, e_month, lcl_out_dir, tiles, sas_token_info, upload=True, overwrite_azure=False):\n",
    "    if s_year == e_year:\n",
    "        print(s_year)\n",
    "        for month in numpy.arange(s_month, e_month+1, 1):\n",
    "            month_str = zero_pad_num_str(month, str_len=2)\n",
    "            out_vec_lyr = f\"{s_year}_{month_str}\"\n",
    "            out_vec_file = f\"gmw_alerts_{out_vec_lyr}_v1.gpkg\"\n",
    "            out_vec_pq_file = f\"gmw_alerts_{out_vec_lyr}_v1.parquet.gzip\"\n",
    "            out_vec_file_path = os.path.join(lcl_out_dir, out_vec_file)\n",
    "            out_vec_pq_file_path = os.path.join(lcl_out_dir, out_vec_pq_file)\n",
    "            print(f\"\\t{out_vec_file}\")\n",
    "            create_monthly_alerts_vec(s_year, month, out_vec_file_path, out_vec_lyr, out_vec_pq_file_path, tiles, sas_token_info)\n",
    "            if upload and os.path.exists(out_vec_file_path):\n",
    "                alerts_vec_file_url = os.path.join(sas_token_info[\"url\"], \"monthly_alert_vecs\", out_vec_file)\n",
    "                alerts_vec_file_url_signed = f\"{alerts_vec_file_url}?{sas_token_info['sas_token']}\"\n",
    "                blob_client = BlobClient.from_blob_url(alerts_vec_file_url_signed)\n",
    "                with open(out_vec_file_path, 'rb') as data:\n",
    "                    blob_client.upload_blob(data, overwrite=overwrite_azure)\n",
    "                blob_client = None\n",
    "            if upload and os.path.exists(out_vec_pq_file_path):\n",
    "                alerts_pq_file_url = os.path.join(sas_token_info[\"url\"], \"monthly_alert_vecs\", out_vec_pq_file)\n",
    "                alerts_pq_file_url_signed = f\"{alerts_pq_file_url}?{sas_token_info['sas_token']}\"\n",
    "                blob_client = BlobClient.from_blob_url(alerts_pq_file_url_signed)\n",
    "                with open(out_vec_pq_file_path, 'rb') as data:\n",
    "                    blob_client.upload_blob(data, overwrite=overwrite_azure)\n",
    "                blob_client = None\n",
    "    else: \n",
    "        for year in numpy.arange(s_year, e_year+1, 1):\n",
    "            print(year)\n",
    "            if s_year == year:\n",
    "                month_s = s_month\n",
    "                month_e = 12\n",
    "            elif e_year == year:\n",
    "                month_s = 1\n",
    "                month_e = e_month\n",
    "            else:\n",
    "                month_s = 1\n",
    "                month_e = 12\n",
    "\n",
    "            for month in numpy.arange(month_s, month_e+1, 1):\n",
    "                month_str = zero_pad_num_str(month, str_len=2)\n",
    "                out_vec_lyr = f\"{year}_{month_str}\"\n",
    "                out_vec_file = f\"gmw_alerts_{out_vec_lyr}_v1.gpkg\"\n",
    "                out_vec_pq_file = f\"gmw_alerts_{out_vec_lyr}_v1.parquet.gzip\"\n",
    "                out_vec_file_path = os.path.join(lcl_out_dir, out_vec_file)\n",
    "                out_vec_pq_file_path = os.path.join(lcl_out_dir, out_vec_pq_file)\n",
    "                print(f\"\\t{out_vec_file}\")\n",
    "                create_monthly_alerts_vec(year, month, out_vec_file_path, out_vec_lyr, out_vec_pq_file_path, tiles, sas_token_info)\n",
    "                if upload and os.path.exists(out_vec_file_path):\n",
    "                    alerts_vec_file_url = os.path.join(sas_token_info[\"url\"], \"monthly_alert_vecs\", out_vec_file)\n",
    "                    alerts_vec_file_url_signed = f\"{alerts_vec_file_url}?{sas_token_info['sas_token']}\"\n",
    "                    blob_client = BlobClient.from_blob_url(alerts_vec_file_url_signed)\n",
    "                    with open(out_vec_file_path, 'rb') as data:\n",
    "                        blob_client.upload_blob(data, overwrite=overwrite_azure)\n",
    "                    blob_client = None\n",
    "                if upload and os.path.exists(out_vec_pq_file_path):\n",
    "                    alerts_pq_file_url = os.path.join(sas_token_info[\"url\"], \"monthly_alert_vecs\", out_vec_pq_file)\n",
    "                    alerts_pq_file_url_signed = f\"{alerts_pq_file_url}?{sas_token_info['sas_token']}\"\n",
    "                    blob_client = BlobClient.from_blob_url(alerts_pq_file_url_signed)\n",
    "                    with open(out_vec_pq_file_path, 'rb') as data:\n",
    "                        blob_client.upload_blob(data, overwrite=overwrite_azure)\n",
    "                    blob_client = None\n",
    "    "
   ]
  },
  {
   "cell_type": "code",
   "execution_count": 6,
   "id": "4bb175d7-3d89-4f55-b7c5-252256bf76f8",
   "metadata": {},
   "outputs": [],
   "source": [
    "sas_info_file = \"/home/jovyan/azure_info.json\"\n",
    "with open(sas_info_file) as f:\n",
    "    sas_token_info = json.load(f)"
   ]
  },
  {
   "cell_type": "code",
   "execution_count": 7,
   "id": "6dee5935-9cab-4294-b602-6bbdfcdac315",
   "metadata": {},
   "outputs": [
    {
     "name": "stdout",
     "output_type": "stream",
     "text": [
      "n_tiles: 484\n"
     ]
    }
   ],
   "source": [
    "# Define the tiles to be processed.\n",
    "tiles_gdf = geopandas.read_file(\"../00_base_data/alert_region_tiles.geojson\")\n",
    "tiles = tiles_gdf[\"tile\"].values\n",
    "#tiles = tiles[10:20]\n",
    "\n",
    "tiles = tiles.tolist()\n",
    "#tiles.remove(\"N27W077\")\n",
    "\n",
    "n_tiles = len(tiles)\n",
    "print(f\"n_tiles: {n_tiles}\")"
   ]
  },
  {
   "cell_type": "code",
   "execution_count": 8,
   "id": "24659f85-9ae7-4517-910c-bfcb9f73400b",
   "metadata": {},
   "outputs": [
    {
     "name": "stdout",
     "output_type": "stream",
     "text": [
      "2022\n",
      "\tgmw_alerts_2022_12_v1.gpkg\n"
     ]
    },
    {
     "data": {
      "application/vnd.jupyter.widget-view+json": {
       "model_id": "47854d9ca69547c5b594aaffc6e09ab0",
       "version_major": 2,
       "version_minor": 0
      },
      "text/plain": [
       "  0%|          | 0/484 [00:00<?, ?it/s]"
      ]
     },
     "metadata": {},
     "output_type": "display_data"
    },
    {
     "name": "stdout",
     "output_type": "stream",
     "text": [
      "No alerts for 2022-12: Something has probably gone wrong!\n"
     ]
    }
   ],
   "source": [
    "# specify date range (use n instead of n-1 here)\n",
    "s_year=2022\n",
    "s_month=12\n",
    "e_year=2022\n",
    "e_month=12\n",
    "lcl_out_dir = \"/home/jovyan/gmw_vec_alerts\"\n",
    "if not os.path.exists(lcl_out_dir):\n",
    "    os.mkdir(lcl_out_dir)\n",
    "# set overwrite_azure to True when needed\n",
    "create_gmw_alert_vecs(s_year, s_month, e_year, e_month, lcl_out_dir, tiles, sas_token_info, upload=True, overwrite_azure=False)"
   ]
  },
  {
   "cell_type": "code",
   "execution_count": null,
   "id": "982aa54b-2239-4e46-9142-fdd1b344b72f",
   "metadata": {},
   "outputs": [],
   "source": []
  }
 ],
 "metadata": {
  "kernelspec": {
   "display_name": "Python 3 (ipykernel)",
   "language": "python",
   "name": "python3"
  },
  "language_info": {
   "codemirror_mode": {
    "name": "ipython",
    "version": 3
   },
   "file_extension": ".py",
   "mimetype": "text/x-python",
   "name": "python",
   "nbconvert_exporter": "python",
   "pygments_lexer": "ipython3",
   "version": "3.10.6"
  }
 },
 "nbformat": 4,
 "nbformat_minor": 5
}
