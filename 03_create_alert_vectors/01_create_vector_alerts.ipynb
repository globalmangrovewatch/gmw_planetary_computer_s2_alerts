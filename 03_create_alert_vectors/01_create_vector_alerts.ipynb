{
 "cells": [
  {
   "cell_type": "code",
   "execution_count": 1,
   "id": "8049bb4a-b409-4bfe-9be3-13c667977651",
   "metadata": {},
   "outputs": [],
   "source": [
    "import os\n",
    "import numpy\n",
    "import datetime\n",
    "import json\n",
    "from pathlib import Path\n",
    "import rasterio\n",
    "import geopandas\n",
    "import pandas\n",
    "import fiona\n",
    "import calendar\n",
    "from azure.storage.blob import BlobClient, ContainerClient\n",
    "from tqdm.notebook import tqdm"
   ]
  },
  {
   "cell_type": "code",
   "execution_count": 2,
   "id": "2a872cd5-fc19-4e1e-a9c7-ec1c0acfe323",
   "metadata": {},
   "outputs": [],
   "source": [
    "def find_month_end_date(year, month):\n",
    "    cal = calendar.Calendar()\n",
    "    month_days = cal.monthdayscalendar(year, month)\n",
    "    max_day_month = numpy.array(month_days).flatten().max()\n",
    "    return max_day_month\n",
    "\n",
    "def zero_pad_num_str(\n",
    "    num_val: float,\n",
    "    str_len: int = 3,\n",
    "    round_num: bool = False,\n",
    "    round_n_digts: int = 0,\n",
    "    integerise: bool = False,\n",
    "    absolute: bool = False,\n",
    "    gain: float = 1,\n",
    ") -> str:\n",
    "    if absolute:\n",
    "        num_val = abs(num_val)\n",
    "    if round_num:\n",
    "        num_val = round(num_val, round_n_digts)\n",
    "    if integerise:\n",
    "        num_val = int(num_val * gain)\n",
    "\n",
    "    num_str = \"{}\".format(num_val)\n",
    "    num_str = num_str.zfill(str_len)\n",
    "    return num_str"
   ]
  },
  {
   "cell_type": "code",
   "execution_count": 3,
   "id": "16b756fc-6722-40f8-a9ab-43938c193c55",
   "metadata": {},
   "outputs": [],
   "source": [
    "def create_alert_gdf(alerts_img, alerts_meta_img):\n",
    "    alerts_ds = rasterio.open(alerts_img)\n",
    "    alerts_meta_ds = rasterio.open(alerts_meta_img)\n",
    "    \n",
    "    alerts_arr = alerts_ds.read(1)\n",
    "    score_arr = alerts_meta_ds.read(1)\n",
    "    year_arr = alerts_meta_ds.read(2)\n",
    "    month_arr = alerts_meta_ds.read(3)\n",
    "    \n",
    "    height = alerts_arr.shape[0]\n",
    "    width = alerts_arr.shape[1]\n",
    "    cols, rows = numpy.meshgrid(numpy.arange(width), numpy.arange(height))\n",
    "    xs, ys = rasterio.transform.xy(alerts_ds.transform, rows, cols)\n",
    "    lons_arr = numpy.array(xs)\n",
    "    lats_arr = numpy.array(ys)\n",
    "    \n",
    "    alerts_arr = alerts_arr.flatten()\n",
    "    score_arr = score_arr.flatten()\n",
    "    year_arr = year_arr.flatten()\n",
    "    month_arr = month_arr.flatten()\n",
    "    lons_arr = lons_arr.flatten()\n",
    "    lats_arr = lats_arr.flatten()\n",
    "        \n",
    "    score_arr = score_arr[alerts_arr == 1]\n",
    "    year_arr = year_arr[alerts_arr == 1]\n",
    "    month_arr = month_arr[alerts_arr == 1]\n",
    "    lons_arr = lons_arr[alerts_arr == 1]\n",
    "    lats_arr = lats_arr[alerts_arr == 1]\n",
    "    \n",
    "    dates_list = list()\n",
    "    for year_val, month_val in zip(year_arr, month_arr):\n",
    "        day_val = find_month_end_date(year_val, month_val)\n",
    "        dates_list.append(datetime.datetime(year_val, month_val, day_val))\n",
    "        \n",
    "    if score_arr.shape[0] > 0:\n",
    "        vec_data = dict()\n",
    "        vec_data[\"score\"] = score_arr\n",
    "        vec_data[\"year\"] = year_arr\n",
    "        vec_data[\"month\"] = month_arr\n",
    "        vec_data[\"date\"] = dates_list\n",
    "        vec_data[\"lons\"] = lons_arr\n",
    "        vec_data[\"lats\"] = lats_arr\n",
    "        alerts_gdf = geopandas.GeoDataFrame(vec_data, geometry=geopandas.points_from_xy(lons_arr, lats_arr))\n",
    "        return alerts_gdf\n",
    "    return None\n",
    "        "
   ]
  },
  {
   "cell_type": "code",
   "execution_count": 4,
   "id": "94388a56-e547-4e5b-a2bd-8a0ead8f31e0",
   "metadata": {},
   "outputs": [],
   "source": [
    "def create_monthly_alerts_vec(year, month, out_vec_file, out_vec_lyr, out_vec_pq_file, tiles, sas_token_info):\n",
    "    month_str = zero_pad_num_str(month, str_len=2)\n",
    "    tile_alerts_lst = list()\n",
    "    for tile in tqdm(tiles):\n",
    "        meta_img = f\"gmw_{tile}_{year}{month_str}_chg_alerts_meta.tif\"\n",
    "        meta_img_file_url = os.path.join(sas_token_info[\"url\"], \"monthly_change_imgs\", meta_img)\n",
    "        meta_img_file_url_signed = f\"{meta_img_file_url}?{sas_token_info['sas_token']}\"\n",
    "        meta_img_exists =  BlobClient.from_blob_url(meta_img_file_url_signed).exists()\n",
    "        \n",
    "        alerts_img = f\"gmw_{tile}_{year}{month_str}_chg_alerts.tif\"\n",
    "        alerts_img_file_url = os.path.join(sas_token_info[\"url\"], \"monthly_change_imgs\", alerts_img)\n",
    "        alerts_img_file_url_signed = f\"{alerts_img_file_url}?{sas_token_info['sas_token']}\"\n",
    "        alerts_img_exists =  BlobClient.from_blob_url(alerts_img_file_url_signed).exists()\n",
    "        if meta_img_exists and alerts_img_exists:\n",
    "            tile_alerts_gdf = create_alert_gdf(alerts_img_file_url_signed, meta_img_file_url_signed)\n",
    "            if tile_alerts_gdf is not None:\n",
    "                tile_alerts_lst.append(tile_alerts_gdf)\n",
    "    if len(tile_alerts_lst) > 0:\n",
    "        alerts_gpf = pandas.concat(tile_alerts_lst)\n",
    "        if len(alerts_gpf) > 0:\n",
    "            alerts_gpf.to_file(out_vec_file, layer=out_vec_lyr, driver=\"GPKG\")\n",
    "            alerts_gpf.to_parquet(out_vec_pq_file, compression='gzip')\n",
    "        else:\n",
    "            print(f\"No alerts for {year}-{month}: Something has probably gone wrong!\")\n",
    "    else:\n",
    "        print(f\"No alerts for {year}-{month}: Something has probably gone wrong!\")"
   ]
  },
  {
   "cell_type": "code",
   "execution_count": 5,
   "id": "e3437088-c381-4873-8bfd-4fe329e7c326",
   "metadata": {},
   "outputs": [],
   "source": [
    "def create_gmw_alert_vecs(s_year, s_month, e_year, e_month, lcl_out_dir, tiles, sas_token_info, upload=True):\n",
    "    if s_year == e_year:\n",
    "        print(s_year)\n",
    "        for month in numpy.arange(s_month, e_month+1, 1):\n",
    "            month_str = zero_pad_num_str(month, str_len=2)\n",
    "            out_vec_lyr = f\"{s_year}_{month_str}\"\n",
    "            out_vec_file = f\"gmw_alerts_{out_vec_lyr}_v1.gpkg\"\n",
    "            out_vec_pq_file = f\"gmw_alerts_{out_vec_lyr}_v1.parquet.gzip\"\n",
    "            out_vec_file_path = os.path.join(lcl_out_dir, out_vec_file)\n",
    "            out_vec_pq_file_path = os.path.join(lcl_out_dir, out_vec_pq_file)\n",
    "            print(f\"\\t{out_vec_file}\")\n",
    "            create_monthly_alerts_vec(s_year, month, out_vec_file_path, out_vec_lyr, out_vec_pq_file_path, tiles, sas_token_info)\n",
    "            if upload and os.path.exists(out_vec_file_path):\n",
    "                alerts_vec_file_url = os.path.join(sas_token_info[\"url\"], \"monthly_alert_vecs\", out_vec_file)\n",
    "                alerts_vec_file_url_signed = f\"{alerts_vec_file_url}?{sas_token_info['sas_token']}\"\n",
    "                blob_client = BlobClient.from_blob_url(alerts_vec_file_url_signed)\n",
    "                with open(out_vec_file_path, 'rb') as data:\n",
    "                    blob_client.upload_blob(data)\n",
    "                blob_client = None\n",
    "            if upload and os.path.exists(out_vec_pq_file_path):\n",
    "                alerts_pq_file_url = os.path.join(sas_token_info[\"url\"], \"monthly_alert_vecs\", out_vec_pq_file)\n",
    "                alerts_pq_file_url_signed = f\"{alerts_pq_file_url}?{sas_token_info['sas_token']}\"\n",
    "                blob_client = BlobClient.from_blob_url(alerts_pq_file_url_signed)\n",
    "                with open(out_vec_pq_file_path, 'rb') as data:\n",
    "                    blob_client.upload_blob(data)\n",
    "                blob_client = None\n",
    "    else: \n",
    "        for year in numpy.arange(s_year, e_year+1, 1):\n",
    "            print(year)\n",
    "            if s_year == year:\n",
    "                month_s = s_month\n",
    "                month_e = 12\n",
    "            elif e_year == year:\n",
    "                month_s = 1\n",
    "                month_e = e_month\n",
    "            else:\n",
    "                month_s = 1\n",
    "                month_e = 12\n",
    "\n",
    "            for month in numpy.arange(month_s, month_e+1, 1):\n",
    "                month_str = zero_pad_num_str(month, str_len=2)\n",
    "                out_vec_lyr = f\"{year}_{month_str}\"\n",
    "                out_vec_file = f\"gmw_alerts_{out_vec_lyr}_v1.gpkg\"\n",
    "                out_vec_pq_file = f\"gmw_alerts_{out_vec_lyr}_v1.parquet.gzip\"\n",
    "                out_vec_file_path = os.path.join(lcl_out_dir, out_vec_file)\n",
    "                out_vec_pq_file_path = os.path.join(lcl_out_dir, out_vec_pq_file)\n",
    "                print(f\"\\t{out_vec_file}\")\n",
    "                create_monthly_alerts_vec(year, month, out_vec_file_path, out_vec_lyr, out_vec_pq_file_path, tiles, sas_token_info)\n",
    "                if upload and os.path.exists(out_vec_file_path):\n",
    "                    alerts_vec_file_url = os.path.join(sas_token_info[\"url\"], \"monthly_alert_vecs\", out_vec_file)\n",
    "                    alerts_vec_file_url_signed = f\"{alerts_vec_file_url}?{sas_token_info['sas_token']}\"\n",
    "                    blob_client = BlobClient.from_blob_url(alerts_vec_file_url_signed)\n",
    "                    with open(out_vec_file_path, 'rb') as data:\n",
    "                        blob_client.upload_blob(data)\n",
    "                    blob_client = None\n",
    "                if upload and os.path.exists(out_vec_pq_file_path):\n",
    "                    alerts_pq_file_url = os.path.join(sas_token_info[\"url\"], \"monthly_alert_vecs\", out_vec_pq_file)\n",
    "                    alerts_pq_file_url_signed = f\"{alerts_pq_file_url}?{sas_token_info['sas_token']}\"\n",
    "                    blob_client = BlobClient.from_blob_url(alerts_pq_file_url_signed)\n",
    "                    with open(out_vec_pq_file_path, 'rb') as data:\n",
    "                        blob_client.upload_blob(data)\n",
    "                    blob_client = None\n",
    "    "
   ]
  },
  {
   "cell_type": "code",
   "execution_count": 6,
   "id": "4bb175d7-3d89-4f55-b7c5-252256bf76f8",
   "metadata": {},
   "outputs": [],
   "source": [
    "sas_info_file = \"/home/jovyan/azure_info.json\"\n",
    "with open(sas_info_file) as f:\n",
    "    sas_token_info = json.load(f)"
   ]
  },
  {
   "cell_type": "code",
   "execution_count": 7,
   "id": "6dee5935-9cab-4294-b602-6bbdfcdac315",
   "metadata": {},
   "outputs": [
    {
     "name": "stdout",
     "output_type": "stream",
     "text": [
      "n_tiles: 484\n"
     ]
    }
   ],
   "source": [
    "# Define the tiles to be processed.\n",
    "tiles_gdf = geopandas.read_file(\"../00_base_data/alert_region_tiles.geojson\")\n",
    "tiles = tiles_gdf[\"tile\"].values\n",
    "#tiles = tiles[10:20]\n",
    "\n",
    "tiles = tiles.tolist()\n",
    "#tiles.remove(\"N27W077\")\n",
    "\n",
    "n_tiles = len(tiles)\n",
    "print(f\"n_tiles: {n_tiles}\")"
   ]
  },
  {
   "cell_type": "code",
   "execution_count": 8,
   "id": "24659f85-9ae7-4517-910c-bfcb9f73400b",
   "metadata": {},
   "outputs": [
    {
     "name": "stdout",
     "output_type": "stream",
     "text": [
      "2019\n",
      "\tgmw_alerts_2019_01_v1.gpkg\n"
     ]
    },
    {
     "data": {
      "application/vnd.jupyter.widget-view+json": {
       "model_id": "5867a27d06f241d3b502dd15f1671c09",
       "version_major": 2,
       "version_minor": 0
      },
      "text/plain": [
       "  0%|          | 0/484 [00:00<?, ?it/s]"
      ]
     },
     "metadata": {},
     "output_type": "display_data"
    },
    {
     "name": "stdout",
     "output_type": "stream",
     "text": [
      "\tgmw_alerts_2019_02_v1.gpkg\n"
     ]
    },
    {
     "data": {
      "application/vnd.jupyter.widget-view+json": {
       "model_id": "9ebe6ef5c5dd4b09942dfe97936fc581",
       "version_major": 2,
       "version_minor": 0
      },
      "text/plain": [
       "  0%|          | 0/484 [00:00<?, ?it/s]"
      ]
     },
     "metadata": {},
     "output_type": "display_data"
    },
    {
     "name": "stdout",
     "output_type": "stream",
     "text": [
      "\tgmw_alerts_2019_03_v1.gpkg\n"
     ]
    },
    {
     "data": {
      "application/vnd.jupyter.widget-view+json": {
       "model_id": "3de7473538d348bbbfca2d0a70fa2088",
       "version_major": 2,
       "version_minor": 0
      },
      "text/plain": [
       "  0%|          | 0/484 [00:00<?, ?it/s]"
      ]
     },
     "metadata": {},
     "output_type": "display_data"
    },
    {
     "name": "stdout",
     "output_type": "stream",
     "text": [
      "\tgmw_alerts_2019_04_v1.gpkg\n"
     ]
    },
    {
     "data": {
      "application/vnd.jupyter.widget-view+json": {
       "model_id": "64d378da5fe04fb2ad2447720667e927",
       "version_major": 2,
       "version_minor": 0
      },
      "text/plain": [
       "  0%|          | 0/484 [00:00<?, ?it/s]"
      ]
     },
     "metadata": {},
     "output_type": "display_data"
    },
    {
     "name": "stdout",
     "output_type": "stream",
     "text": [
      "\tgmw_alerts_2019_05_v1.gpkg\n"
     ]
    },
    {
     "data": {
      "application/vnd.jupyter.widget-view+json": {
       "model_id": "66727e41ca6843cfb1f9c78717d74afc",
       "version_major": 2,
       "version_minor": 0
      },
      "text/plain": [
       "  0%|          | 0/484 [00:00<?, ?it/s]"
      ]
     },
     "metadata": {},
     "output_type": "display_data"
    },
    {
     "name": "stdout",
     "output_type": "stream",
     "text": [
      "\tgmw_alerts_2019_06_v1.gpkg\n"
     ]
    },
    {
     "data": {
      "application/vnd.jupyter.widget-view+json": {
       "model_id": "430d5ba1b5bc4818b37259a6a272b7be",
       "version_major": 2,
       "version_minor": 0
      },
      "text/plain": [
       "  0%|          | 0/484 [00:00<?, ?it/s]"
      ]
     },
     "metadata": {},
     "output_type": "display_data"
    },
    {
     "name": "stdout",
     "output_type": "stream",
     "text": [
      "\tgmw_alerts_2019_07_v1.gpkg\n"
     ]
    },
    {
     "data": {
      "application/vnd.jupyter.widget-view+json": {
       "model_id": "9cb2a831962c4c39850503b4470c7835",
       "version_major": 2,
       "version_minor": 0
      },
      "text/plain": [
       "  0%|          | 0/484 [00:00<?, ?it/s]"
      ]
     },
     "metadata": {},
     "output_type": "display_data"
    },
    {
     "name": "stdout",
     "output_type": "stream",
     "text": [
      "\tgmw_alerts_2019_08_v1.gpkg\n"
     ]
    },
    {
     "data": {
      "application/vnd.jupyter.widget-view+json": {
       "model_id": "f590ca6d80c743db8342a44212d081f6",
       "version_major": 2,
       "version_minor": 0
      },
      "text/plain": [
       "  0%|          | 0/484 [00:00<?, ?it/s]"
      ]
     },
     "metadata": {},
     "output_type": "display_data"
    },
    {
     "name": "stdout",
     "output_type": "stream",
     "text": [
      "\tgmw_alerts_2019_09_v1.gpkg\n"
     ]
    },
    {
     "data": {
      "application/vnd.jupyter.widget-view+json": {
       "model_id": "060c0d0b392d469f9f8341e1c0166598",
       "version_major": 2,
       "version_minor": 0
      },
      "text/plain": [
       "  0%|          | 0/484 [00:00<?, ?it/s]"
      ]
     },
     "metadata": {},
     "output_type": "display_data"
    },
    {
     "name": "stdout",
     "output_type": "stream",
     "text": [
      "\tgmw_alerts_2019_10_v1.gpkg\n"
     ]
    },
    {
     "data": {
      "application/vnd.jupyter.widget-view+json": {
       "model_id": "0c2639098c684a75af7dd40f287f5323",
       "version_major": 2,
       "version_minor": 0
      },
      "text/plain": [
       "  0%|          | 0/484 [00:00<?, ?it/s]"
      ]
     },
     "metadata": {},
     "output_type": "display_data"
    },
    {
     "name": "stdout",
     "output_type": "stream",
     "text": [
      "\tgmw_alerts_2019_11_v1.gpkg\n"
     ]
    },
    {
     "data": {
      "application/vnd.jupyter.widget-view+json": {
       "model_id": "d33f7fcadb44494f92c5b59eab0dd1d3",
       "version_major": 2,
       "version_minor": 0
      },
      "text/plain": [
       "  0%|          | 0/484 [00:00<?, ?it/s]"
      ]
     },
     "metadata": {},
     "output_type": "display_data"
    },
    {
     "name": "stdout",
     "output_type": "stream",
     "text": [
      "\tgmw_alerts_2019_12_v1.gpkg\n"
     ]
    },
    {
     "data": {
      "application/vnd.jupyter.widget-view+json": {
       "model_id": "ecc2dbb9cd2e422ab6aba743b01bf2e9",
       "version_major": 2,
       "version_minor": 0
      },
      "text/plain": [
       "  0%|          | 0/484 [00:00<?, ?it/s]"
      ]
     },
     "metadata": {},
     "output_type": "display_data"
    },
    {
     "name": "stdout",
     "output_type": "stream",
     "text": [
      "2020\n",
      "\tgmw_alerts_2019_01_v1.gpkg\n"
     ]
    },
    {
     "data": {
      "application/vnd.jupyter.widget-view+json": {
       "model_id": "356582c17b3549aaa5ddcd387804db37",
       "version_major": 2,
       "version_minor": 0
      },
      "text/plain": [
       "  0%|          | 0/484 [00:00<?, ?it/s]"
      ]
     },
     "metadata": {},
     "output_type": "display_data"
    },
    {
     "ename": "ResourceExistsError",
     "evalue": "The specified blob already exists.\nRequestId:b3e6274a-001e-0064-7dec-311272000000\nTime:2023-01-27T01:16:12.3887720Z\nErrorCode:BlobAlreadyExists\nContent: <?xml version=\"1.0\" encoding=\"utf-8\"?><Error><Code>BlobAlreadyExists</Code><Message>The specified blob already exists.\nRequestId:b3e6274a-001e-0064-7dec-311272000000\nTime:2023-01-27T01:16:12.3887720Z</Message></Error>",
     "output_type": "error",
     "traceback": [
      "\u001b[0;31m---------------------------------------------------------------------------\u001b[0m",
      "\u001b[0;31mResourceExistsError\u001b[0m                       Traceback (most recent call last)",
      "Cell \u001b[0;32mIn [8], line 6\u001b[0m\n\u001b[1;32m      4\u001b[0m e_month\u001b[38;5;241m=\u001b[39m\u001b[38;5;241m10\u001b[39m\n\u001b[1;32m      5\u001b[0m lcl_out_dir \u001b[38;5;241m=\u001b[39m \u001b[38;5;124m\"\u001b[39m\u001b[38;5;124m/home/jovyan/gmw_vec_alerts\u001b[39m\u001b[38;5;124m\"\u001b[39m\n\u001b[0;32m----> 6\u001b[0m \u001b[43mcreate_gmw_alert_vecs\u001b[49m\u001b[43m(\u001b[49m\u001b[43ms_year\u001b[49m\u001b[43m,\u001b[49m\u001b[43m \u001b[49m\u001b[43ms_month\u001b[49m\u001b[43m,\u001b[49m\u001b[43m \u001b[49m\u001b[43me_year\u001b[49m\u001b[43m,\u001b[49m\u001b[43m \u001b[49m\u001b[43me_month\u001b[49m\u001b[43m,\u001b[49m\u001b[43m \u001b[49m\u001b[43mlcl_out_dir\u001b[49m\u001b[43m,\u001b[49m\u001b[43m \u001b[49m\u001b[43mtiles\u001b[49m\u001b[43m,\u001b[49m\u001b[43m \u001b[49m\u001b[43msas_token_info\u001b[49m\u001b[43m)\u001b[49m\n",
      "Cell \u001b[0;32mIn [5], line 54\u001b[0m, in \u001b[0;36mcreate_gmw_alert_vecs\u001b[0;34m(s_year, s_month, e_year, e_month, lcl_out_dir, tiles, sas_token_info, upload)\u001b[0m\n\u001b[1;32m     52\u001b[0m     blob_client \u001b[38;5;241m=\u001b[39m BlobClient\u001b[38;5;241m.\u001b[39mfrom_blob_url(alerts_vec_file_url_signed)\n\u001b[1;32m     53\u001b[0m     \u001b[38;5;28;01mwith\u001b[39;00m \u001b[38;5;28mopen\u001b[39m(out_vec_file_path, \u001b[38;5;124m'\u001b[39m\u001b[38;5;124mrb\u001b[39m\u001b[38;5;124m'\u001b[39m) \u001b[38;5;28;01mas\u001b[39;00m data:\n\u001b[0;32m---> 54\u001b[0m         \u001b[43mblob_client\u001b[49m\u001b[38;5;241;43m.\u001b[39;49m\u001b[43mupload_blob\u001b[49m\u001b[43m(\u001b[49m\u001b[43mdata\u001b[49m\u001b[43m)\u001b[49m\n\u001b[1;32m     55\u001b[0m     blob_client \u001b[38;5;241m=\u001b[39m \u001b[38;5;28;01mNone\u001b[39;00m\n\u001b[1;32m     56\u001b[0m \u001b[38;5;28;01mif\u001b[39;00m upload \u001b[38;5;129;01mand\u001b[39;00m os\u001b[38;5;241m.\u001b[39mpath\u001b[38;5;241m.\u001b[39mexists(out_vec_pq_file_path):\n",
      "File \u001b[0;32m/srv/conda/envs/notebook/lib/python3.10/site-packages/azure/core/tracing/decorator.py:78\u001b[0m, in \u001b[0;36mdistributed_trace.<locals>.decorator.<locals>.wrapper_use_tracer\u001b[0;34m(*args, **kwargs)\u001b[0m\n\u001b[1;32m     76\u001b[0m span_impl_type \u001b[38;5;241m=\u001b[39m settings\u001b[38;5;241m.\u001b[39mtracing_implementation()\n\u001b[1;32m     77\u001b[0m \u001b[38;5;28;01mif\u001b[39;00m span_impl_type \u001b[38;5;129;01mis\u001b[39;00m \u001b[38;5;28;01mNone\u001b[39;00m:\n\u001b[0;32m---> 78\u001b[0m     \u001b[38;5;28;01mreturn\u001b[39;00m \u001b[43mfunc\u001b[49m\u001b[43m(\u001b[49m\u001b[38;5;241;43m*\u001b[39;49m\u001b[43margs\u001b[49m\u001b[43m,\u001b[49m\u001b[43m \u001b[49m\u001b[38;5;241;43m*\u001b[39;49m\u001b[38;5;241;43m*\u001b[39;49m\u001b[43mkwargs\u001b[49m\u001b[43m)\u001b[49m\n\u001b[1;32m     80\u001b[0m \u001b[38;5;66;03m# Merge span is parameter is set, but only if no explicit parent are passed\u001b[39;00m\n\u001b[1;32m     81\u001b[0m \u001b[38;5;28;01mif\u001b[39;00m merge_span \u001b[38;5;129;01mand\u001b[39;00m \u001b[38;5;129;01mnot\u001b[39;00m passed_in_parent:\n",
      "File \u001b[0;32m/srv/conda/envs/notebook/lib/python3.10/site-packages/azure/storage/blob/_blob_client.py:731\u001b[0m, in \u001b[0;36mBlobClient.upload_blob\u001b[0;34m(self, data, blob_type, length, metadata, **kwargs)\u001b[0m\n\u001b[1;32m    724\u001b[0m options \u001b[38;5;241m=\u001b[39m \u001b[38;5;28mself\u001b[39m\u001b[38;5;241m.\u001b[39m_upload_blob_options(\n\u001b[1;32m    725\u001b[0m     data,\n\u001b[1;32m    726\u001b[0m     blob_type\u001b[38;5;241m=\u001b[39mblob_type,\n\u001b[1;32m    727\u001b[0m     length\u001b[38;5;241m=\u001b[39mlength,\n\u001b[1;32m    728\u001b[0m     metadata\u001b[38;5;241m=\u001b[39mmetadata,\n\u001b[1;32m    729\u001b[0m     \u001b[38;5;241m*\u001b[39m\u001b[38;5;241m*\u001b[39mkwargs)\n\u001b[1;32m    730\u001b[0m \u001b[38;5;28;01mif\u001b[39;00m blob_type \u001b[38;5;241m==\u001b[39m BlobType\u001b[38;5;241m.\u001b[39mBlockBlob:\n\u001b[0;32m--> 731\u001b[0m     \u001b[38;5;28;01mreturn\u001b[39;00m \u001b[43mupload_block_blob\u001b[49m\u001b[43m(\u001b[49m\u001b[38;5;241;43m*\u001b[39;49m\u001b[38;5;241;43m*\u001b[39;49m\u001b[43moptions\u001b[49m\u001b[43m)\u001b[49m\n\u001b[1;32m    732\u001b[0m \u001b[38;5;28;01mif\u001b[39;00m blob_type \u001b[38;5;241m==\u001b[39m BlobType\u001b[38;5;241m.\u001b[39mPageBlob:\n\u001b[1;32m    733\u001b[0m     \u001b[38;5;28;01mreturn\u001b[39;00m upload_page_blob(\u001b[38;5;241m*\u001b[39m\u001b[38;5;241m*\u001b[39moptions)\n",
      "File \u001b[0;32m/srv/conda/envs/notebook/lib/python3.10/site-packages/azure/storage/blob/_upload_helpers.py:197\u001b[0m, in \u001b[0;36mupload_block_blob\u001b[0;34m(client, data, stream, length, overwrite, headers, validate_content, max_concurrency, blob_settings, encryption_options, **kwargs)\u001b[0m\n\u001b[1;32m    195\u001b[0m \u001b[38;5;28;01mexcept\u001b[39;00m HttpResponseError \u001b[38;5;28;01mas\u001b[39;00m error:\n\u001b[1;32m    196\u001b[0m     \u001b[38;5;28;01mtry\u001b[39;00m:\n\u001b[0;32m--> 197\u001b[0m         \u001b[43mprocess_storage_error\u001b[49m\u001b[43m(\u001b[49m\u001b[43merror\u001b[49m\u001b[43m)\u001b[49m\n\u001b[1;32m    198\u001b[0m     \u001b[38;5;28;01mexcept\u001b[39;00m ResourceModifiedError \u001b[38;5;28;01mas\u001b[39;00m mod_error:\n\u001b[1;32m    199\u001b[0m         \u001b[38;5;28;01mif\u001b[39;00m \u001b[38;5;129;01mnot\u001b[39;00m overwrite:\n",
      "File \u001b[0;32m/srv/conda/envs/notebook/lib/python3.10/site-packages/azure/storage/blob/_shared/response_handlers.py:181\u001b[0m, in \u001b[0;36mprocess_storage_error\u001b[0;34m(storage_error)\u001b[0m\n\u001b[1;32m    178\u001b[0m error\u001b[38;5;241m.\u001b[39margs \u001b[38;5;241m=\u001b[39m (error\u001b[38;5;241m.\u001b[39mmessage,)\n\u001b[1;32m    179\u001b[0m \u001b[38;5;28;01mtry\u001b[39;00m:\n\u001b[1;32m    180\u001b[0m     \u001b[38;5;66;03m# `from None` prevents us from double printing the exception (suppresses generated layer error context)\u001b[39;00m\n\u001b[0;32m--> 181\u001b[0m     \u001b[43mexec\u001b[49m\u001b[43m(\u001b[49m\u001b[38;5;124;43m\"\u001b[39;49m\u001b[38;5;124;43mraise error from None\u001b[39;49m\u001b[38;5;124;43m\"\u001b[39;49m\u001b[43m)\u001b[49m   \u001b[38;5;66;03m# pylint: disable=exec-used # nosec\u001b[39;00m\n\u001b[1;32m    182\u001b[0m \u001b[38;5;28;01mexcept\u001b[39;00m \u001b[38;5;167;01mSyntaxError\u001b[39;00m:\n\u001b[1;32m    183\u001b[0m     \u001b[38;5;28;01mraise\u001b[39;00m error\n",
      "File \u001b[0;32m<string>:1\u001b[0m\n",
      "File \u001b[0;32m/srv/conda/envs/notebook/lib/python3.10/site-packages/azure/storage/blob/_upload_helpers.py:107\u001b[0m, in \u001b[0;36mupload_block_blob\u001b[0;34m(client, data, stream, length, overwrite, headers, validate_content, max_concurrency, blob_settings, encryption_options, **kwargs)\u001b[0m\n\u001b[1;32m    104\u001b[0m     encryption_data, data \u001b[38;5;241m=\u001b[39m encrypt_blob(data, encryption_options[\u001b[38;5;124m'\u001b[39m\u001b[38;5;124mkey\u001b[39m\u001b[38;5;124m'\u001b[39m], encryption_options[\u001b[38;5;124m'\u001b[39m\u001b[38;5;124mversion\u001b[39m\u001b[38;5;124m'\u001b[39m])\n\u001b[1;32m    105\u001b[0m     headers[\u001b[38;5;124m'\u001b[39m\u001b[38;5;124mx-ms-meta-encryptiondata\u001b[39m\u001b[38;5;124m'\u001b[39m] \u001b[38;5;241m=\u001b[39m encryption_data\n\u001b[0;32m--> 107\u001b[0m response \u001b[38;5;241m=\u001b[39m \u001b[43mclient\u001b[49m\u001b[38;5;241;43m.\u001b[39;49m\u001b[43mupload\u001b[49m\u001b[43m(\u001b[49m\n\u001b[1;32m    108\u001b[0m \u001b[43m    \u001b[49m\u001b[43mbody\u001b[49m\u001b[38;5;241;43m=\u001b[39;49m\u001b[43mdata\u001b[49m\u001b[43m,\u001b[49m\n\u001b[1;32m    109\u001b[0m \u001b[43m    \u001b[49m\u001b[43mcontent_length\u001b[49m\u001b[38;5;241;43m=\u001b[39;49m\u001b[43madjusted_count\u001b[49m\u001b[43m,\u001b[49m\n\u001b[1;32m    110\u001b[0m \u001b[43m    \u001b[49m\u001b[43mblob_http_headers\u001b[49m\u001b[38;5;241;43m=\u001b[39;49m\u001b[43mblob_headers\u001b[49m\u001b[43m,\u001b[49m\n\u001b[1;32m    111\u001b[0m \u001b[43m    \u001b[49m\u001b[43mheaders\u001b[49m\u001b[38;5;241;43m=\u001b[39;49m\u001b[43mheaders\u001b[49m\u001b[43m,\u001b[49m\n\u001b[1;32m    112\u001b[0m \u001b[43m    \u001b[49m\u001b[38;5;28;43mcls\u001b[39;49m\u001b[38;5;241;43m=\u001b[39;49m\u001b[43mreturn_response_headers\u001b[49m\u001b[43m,\u001b[49m\n\u001b[1;32m    113\u001b[0m \u001b[43m    \u001b[49m\u001b[43mvalidate_content\u001b[49m\u001b[38;5;241;43m=\u001b[39;49m\u001b[43mvalidate_content\u001b[49m\u001b[43m,\u001b[49m\n\u001b[1;32m    114\u001b[0m \u001b[43m    \u001b[49m\u001b[43mdata_stream_total\u001b[49m\u001b[38;5;241;43m=\u001b[39;49m\u001b[43madjusted_count\u001b[49m\u001b[43m,\u001b[49m\n\u001b[1;32m    115\u001b[0m \u001b[43m    \u001b[49m\u001b[43mupload_stream_current\u001b[49m\u001b[38;5;241;43m=\u001b[39;49m\u001b[38;5;241;43m0\u001b[39;49m\u001b[43m,\u001b[49m\n\u001b[1;32m    116\u001b[0m \u001b[43m    \u001b[49m\u001b[43mtier\u001b[49m\u001b[38;5;241;43m=\u001b[39;49m\u001b[43mtier\u001b[49m\u001b[38;5;241;43m.\u001b[39;49m\u001b[43mvalue\u001b[49m\u001b[43m \u001b[49m\u001b[38;5;28;43;01mif\u001b[39;49;00m\u001b[43m \u001b[49m\u001b[43mtier\u001b[49m\u001b[43m \u001b[49m\u001b[38;5;28;43;01melse\u001b[39;49;00m\u001b[43m \u001b[49m\u001b[38;5;28;43;01mNone\u001b[39;49;00m\u001b[43m,\u001b[49m\n\u001b[1;32m    117\u001b[0m \u001b[43m    \u001b[49m\u001b[43mblob_tags_string\u001b[49m\u001b[38;5;241;43m=\u001b[39;49m\u001b[43mblob_tags_string\u001b[49m\u001b[43m,\u001b[49m\n\u001b[1;32m    118\u001b[0m \u001b[43m    \u001b[49m\u001b[43mimmutability_policy_expiry\u001b[49m\u001b[38;5;241;43m=\u001b[39;49m\u001b[43mimmutability_policy_expiry\u001b[49m\u001b[43m,\u001b[49m\n\u001b[1;32m    119\u001b[0m \u001b[43m    \u001b[49m\u001b[43mimmutability_policy_mode\u001b[49m\u001b[38;5;241;43m=\u001b[39;49m\u001b[43mimmutability_policy_mode\u001b[49m\u001b[43m,\u001b[49m\n\u001b[1;32m    120\u001b[0m \u001b[43m    \u001b[49m\u001b[43mlegal_hold\u001b[49m\u001b[38;5;241;43m=\u001b[39;49m\u001b[43mlegal_hold\u001b[49m\u001b[43m,\u001b[49m\n\u001b[1;32m    121\u001b[0m \u001b[43m    \u001b[49m\u001b[38;5;241;43m*\u001b[39;49m\u001b[38;5;241;43m*\u001b[39;49m\u001b[43mkwargs\u001b[49m\u001b[43m)\u001b[49m\n\u001b[1;32m    123\u001b[0m \u001b[38;5;28;01mif\u001b[39;00m progress_hook:\n\u001b[1;32m    124\u001b[0m     progress_hook(adjusted_count, adjusted_count)\n",
      "File \u001b[0;32m/srv/conda/envs/notebook/lib/python3.10/site-packages/azure/core/tracing/decorator.py:78\u001b[0m, in \u001b[0;36mdistributed_trace.<locals>.decorator.<locals>.wrapper_use_tracer\u001b[0;34m(*args, **kwargs)\u001b[0m\n\u001b[1;32m     76\u001b[0m span_impl_type \u001b[38;5;241m=\u001b[39m settings\u001b[38;5;241m.\u001b[39mtracing_implementation()\n\u001b[1;32m     77\u001b[0m \u001b[38;5;28;01mif\u001b[39;00m span_impl_type \u001b[38;5;129;01mis\u001b[39;00m \u001b[38;5;28;01mNone\u001b[39;00m:\n\u001b[0;32m---> 78\u001b[0m     \u001b[38;5;28;01mreturn\u001b[39;00m \u001b[43mfunc\u001b[49m\u001b[43m(\u001b[49m\u001b[38;5;241;43m*\u001b[39;49m\u001b[43margs\u001b[49m\u001b[43m,\u001b[49m\u001b[43m \u001b[49m\u001b[38;5;241;43m*\u001b[39;49m\u001b[38;5;241;43m*\u001b[39;49m\u001b[43mkwargs\u001b[49m\u001b[43m)\u001b[49m\n\u001b[1;32m     80\u001b[0m \u001b[38;5;66;03m# Merge span is parameter is set, but only if no explicit parent are passed\u001b[39;00m\n\u001b[1;32m     81\u001b[0m \u001b[38;5;28;01mif\u001b[39;00m merge_span \u001b[38;5;129;01mand\u001b[39;00m \u001b[38;5;129;01mnot\u001b[39;00m passed_in_parent:\n",
      "File \u001b[0;32m/srv/conda/envs/notebook/lib/python3.10/site-packages/azure/storage/blob/_generated/operations/_block_blob_operations.py:813\u001b[0m, in \u001b[0;36mBlockBlobOperations.upload\u001b[0;34m(self, content_length, body, timeout, transactional_content_md5, metadata, tier, request_id_parameter, blob_tags_string, immutability_policy_expiry, immutability_policy_mode, legal_hold, blob_http_headers, lease_access_conditions, cpk_info, cpk_scope_info, modified_access_conditions, **kwargs)\u001b[0m\n\u001b[1;32m    810\u001b[0m response \u001b[38;5;241m=\u001b[39m pipeline_response\u001b[38;5;241m.\u001b[39mhttp_response\n\u001b[1;32m    812\u001b[0m \u001b[38;5;28;01mif\u001b[39;00m response\u001b[38;5;241m.\u001b[39mstatus_code \u001b[38;5;129;01mnot\u001b[39;00m \u001b[38;5;129;01min\u001b[39;00m [\u001b[38;5;241m201\u001b[39m]:\n\u001b[0;32m--> 813\u001b[0m     \u001b[43mmap_error\u001b[49m\u001b[43m(\u001b[49m\u001b[43mstatus_code\u001b[49m\u001b[38;5;241;43m=\u001b[39;49m\u001b[43mresponse\u001b[49m\u001b[38;5;241;43m.\u001b[39;49m\u001b[43mstatus_code\u001b[49m\u001b[43m,\u001b[49m\u001b[43m \u001b[49m\u001b[43mresponse\u001b[49m\u001b[38;5;241;43m=\u001b[39;49m\u001b[43mresponse\u001b[49m\u001b[43m,\u001b[49m\u001b[43m \u001b[49m\u001b[43merror_map\u001b[49m\u001b[38;5;241;43m=\u001b[39;49m\u001b[43merror_map\u001b[49m\u001b[43m)\u001b[49m\n\u001b[1;32m    814\u001b[0m     error \u001b[38;5;241m=\u001b[39m \u001b[38;5;28mself\u001b[39m\u001b[38;5;241m.\u001b[39m_deserialize\u001b[38;5;241m.\u001b[39mfailsafe_deserialize(_models\u001b[38;5;241m.\u001b[39mStorageError, pipeline_response)\n\u001b[1;32m    815\u001b[0m     \u001b[38;5;28;01mraise\u001b[39;00m HttpResponseError(response\u001b[38;5;241m=\u001b[39mresponse, model\u001b[38;5;241m=\u001b[39merror)\n",
      "File \u001b[0;32m/srv/conda/envs/notebook/lib/python3.10/site-packages/azure/core/exceptions.py:107\u001b[0m, in \u001b[0;36mmap_error\u001b[0;34m(status_code, response, error_map)\u001b[0m\n\u001b[1;32m    105\u001b[0m     \u001b[38;5;28;01mreturn\u001b[39;00m\n\u001b[1;32m    106\u001b[0m error \u001b[38;5;241m=\u001b[39m error_type(response\u001b[38;5;241m=\u001b[39mresponse)\n\u001b[0;32m--> 107\u001b[0m \u001b[38;5;28;01mraise\u001b[39;00m error\n",
      "\u001b[0;31mResourceExistsError\u001b[0m: The specified blob already exists.\nRequestId:b3e6274a-001e-0064-7dec-311272000000\nTime:2023-01-27T01:16:12.3887720Z\nErrorCode:BlobAlreadyExists\nContent: <?xml version=\"1.0\" encoding=\"utf-8\"?><Error><Code>BlobAlreadyExists</Code><Message>The specified blob already exists.\nRequestId:b3e6274a-001e-0064-7dec-311272000000\nTime:2023-01-27T01:16:12.3887720Z</Message></Error>"
     ]
    }
   ],
   "source": [
    "s_year=2020\n",
    "s_month=1\n",
    "e_year=2022\n",
    "e_month=10\n",
    "lcl_out_dir = \"/home/jovyan/gmw_vec_alerts\"\n",
    "if not os.path.exists(lcl_out_dir):\n",
    "    os.mkdir(lcl_out_dir)\n",
    "create_gmw_alert_vecs(s_year, s_month, e_year, e_month, lcl_out_dir, tiles, sas_token_info)"
   ]
  },
  {
   "cell_type": "code",
   "execution_count": null,
   "id": "982aa54b-2239-4e46-9142-fdd1b344b72f",
   "metadata": {},
   "outputs": [],
   "source": []
  }
 ],
 "metadata": {
  "kernelspec": {
   "display_name": "Python 3 (ipykernel)",
   "language": "python",
   "name": "python3"
  },
  "language_info": {
   "codemirror_mode": {
    "name": "ipython",
    "version": 3
   },
   "file_extension": ".py",
   "mimetype": "text/x-python",
   "name": "python",
   "nbconvert_exporter": "python",
   "pygments_lexer": "ipython3",
   "version": "3.10.6"
  }
 },
 "nbformat": 4,
 "nbformat_minor": 5
}
