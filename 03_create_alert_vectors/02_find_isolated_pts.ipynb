{
 "cells": [
  {
   "cell_type": "code",
   "execution_count": null,
   "id": "b86a3d9d-f027-4892-8297-5495c12af26e",
   "metadata": {},
   "outputs": [],
   "source": [
    "import geopandas\n",
    "import pandas\n",
    "import numpy\n",
    "import scipy.spatial\n",
    "import json\n",
    "import os\n",
    "from azure.storage.blob import BlobClient"
   ]
  },
  {
   "cell_type": "code",
   "execution_count": null,
   "id": "d350cef9-e9ff-4a45-80f3-fe9bbd6f8c05",
   "metadata": {},
   "outputs": [],
   "source": [
    "def zero_pad_num_str(\n",
    "    num_val: float,\n",
    "    str_len: int = 3,\n",
    "    round_num: bool = False,\n",
    "    round_n_digts: int = 0,\n",
    "    integerise: bool = False,\n",
    "    absolute: bool = False,\n",
    "    gain: float = 1,\n",
    ") -> str:\n",
    "    if absolute:\n",
    "        num_val = abs(num_val)\n",
    "    if round_num:\n",
    "        num_val = round(num_val, round_n_digts)\n",
    "    if integerise:\n",
    "        num_val = int(num_val * gain)\n",
    "\n",
    "    num_str = \"{}\".format(num_val)\n",
    "    num_str = num_str.zfill(str_len)\n",
    "    return num_str"
   ]
  },
  {
   "cell_type": "code",
   "execution_count": null,
   "id": "28dc5ebf-8346-4d2a-9949-b96adb070e18",
   "metadata": {},
   "outputs": [],
   "source": [
    "sas_info_file = \"/home/jovyan/azure_info.json\"\n",
    "with open(sas_info_file) as f:\n",
    "    sas_token_info = json.load(f)\n",
    "    \n",
    "tmp_dir = \"tmp_lcl\"\n",
    "if not os.path.exists(tmp_dir):\n",
    "    os.mkdir(tmp_dir)"
   ]
  },
  {
   "cell_type": "markdown",
   "id": "12401002-8c80-4273-8933-3803be4d4a1d",
   "metadata": {},
   "source": [
    "## Define the dates for analysis:\n",
    "\n",
    "Define the current and previous month/year. Note, the merged result for the previous month needs to be available. \n",
    "\n",
    "### Process for Nov 2022:\n",
    "```\n",
    "c_month = 11\n",
    "c_year = 2022\n",
    "\n",
    "p_month = 10\n",
    "p_year = 2022\n",
    "```\n",
    "\n",
    "### Process for Jan 2023:\n",
    "```\n",
    "c_month = 1\n",
    "c_year = 2023\n",
    "\n",
    "p_month = 12\n",
    "p_year = 2022\n",
    "```\n",
    "\n",
    "### Process for June 2023:\n",
    "```\n",
    "c_month = 6\n",
    "c_year = 2023\n",
    "\n",
    "p_month = 5\n",
    "p_year = 2023\n",
    "```\n"
   ]
  },
  {
   "cell_type": "code",
   "execution_count": null,
   "id": "171135ec-ddf7-48f2-a217-1f7fdc2c3fd4",
   "metadata": {},
   "outputs": [],
   "source": [
    "c_month = 3\n",
    "c_year = 2023\n",
    "c_month_str = zero_pad_num_str(c_month, str_len=2)\n",
    "\n",
    "p_month = 2\n",
    "p_year = 2023\n",
    "p_month_str = zero_pad_num_str(p_month, str_len=2)"
   ]
  },
  {
   "cell_type": "markdown",
   "id": "cc8c17da-10be-4a5e-8883-2aaa1c4e8481",
   "metadata": {},
   "source": [
    "## Get the current month vector layer from Azure."
   ]
  },
  {
   "cell_type": "code",
   "execution_count": null,
   "id": "e9fddc50-a241-42d6-b4d0-7ff9776da12f",
   "metadata": {},
   "outputs": [],
   "source": [
    "# Find check if alerts vector exists for the month specified and download if it does exist\n",
    "alerts_vec_lyr = f\"{c_year}_{c_month_str}\"\n",
    "alerts_vec_file = f\"gmw_alerts_{alerts_vec_lyr}_v1.parquet.gzip\"\n",
    "alerts_vec_file_url = os.path.join(sas_token_info[\"url\"], \"monthly_alert_vecs\", alerts_vec_file)\n",
    "alerts_vec_file_url_signed = f\"{alerts_vec_file_url}?{sas_token_info['sas_token']}\"\n",
    "alerts_vec_blob_client = BlobClient.from_blob_url(alerts_vec_file_url_signed)\n",
    "if not alerts_vec_blob_client.exists():\n",
    "    raise Exception(\"A vector alerts file does not exist for the month/year specified - have you generated?\")\n",
    "\n",
    "alerts_vec_lcl_file = os.path.join(tmp_dir, alerts_vec_file)\n",
    "with open(file=alerts_vec_lcl_file, mode=\"wb\") as download_file:\n",
    "    download_file.write(alerts_vec_blob_client.download_blob().readall())\n",
    "alerts_vec_blob_client = None\n",
    "\n",
    "# Read the downloaded vector layer into geopandas\n",
    "c_alerts_gdf = geopandas.read_parquet(alerts_vec_lcl_file)\n",
    "c_alerts_gdf = c_alerts_gdf.set_crs(epsg=4326, allow_override=True)"
   ]
  },
  {
   "cell_type": "markdown",
   "id": "f0a82168-0645-4fd1-81b8-3f0f4482408c",
   "metadata": {},
   "source": [
    "## Read the merged vector with all the previous alerts:"
   ]
  },
  {
   "cell_type": "code",
   "execution_count": null,
   "id": "c07fe9e2-dc6d-43cb-b8d2-80b508248500",
   "metadata": {},
   "outputs": [],
   "source": [
    "all_alerts_vec_file = f\"gmw_alerts_all_{p_year}{p_month_str}_qad_v1.parquet.gzip\"\n",
    "\n",
    "# Read the vector data into geopandas\n",
    "p_alerts_gdf = geopandas.read_parquet(all_alerts_vec_file)\n",
    "p_alerts_gdf = p_alerts_gdf.set_crs(epsg=4326, allow_override=True)"
   ]
  },
  {
   "cell_type": "markdown",
   "id": "535cfb6b-020e-438e-bada-78dc7eca0b03",
   "metadata": {},
   "source": [
    "## Merge the two layers\n",
    "\n",
    "This will be the layer to calculate the distances too."
   ]
  },
  {
   "cell_type": "code",
   "execution_count": null,
   "id": "0b76acfe-b92e-4a04-b6f6-3365030614c7",
   "metadata": {},
   "outputs": [],
   "source": [
    "all_alerts_gdf = pandas.concat([c_alerts_gdf, p_alerts_gdf])\n",
    "all_alerts_gdf = all_alerts_gdf.set_crs(epsg=4326, allow_override=True)"
   ]
  },
  {
   "cell_type": "markdown",
   "id": "9398e6b0-d76c-4af1-80fc-60a992917ec2",
   "metadata": {},
   "source": [
    "## Create index and query index to find the number of points within a set of radii"
   ]
  },
  {
   "cell_type": "code",
   "execution_count": null,
   "id": "fe622149-88bb-4a86-ba45-6836b68e147f",
   "metadata": {},
   "outputs": [],
   "source": [
    "print(\"Build Index\")\n",
    "tree_idx = scipy.spatial.KDTree(list(zip(all_alerts_gdf.geometry.x, all_alerts_gdf.geometry.y)))\n",
    "\n",
    "pxl_size = 0.0002 # 22 m\n",
    "\n",
    "print(\"Perform Distance Query: 222 m\")\n",
    "n_pts_r222 = tree_idx.query_ball_point(\n",
    "    list(zip(c_alerts_gdf.geometry.x, c_alerts_gdf.geometry.y)),\n",
    "    r=pxl_size * 10, # 222 m,\n",
    "    p=2.0,\n",
    "    eps=0,\n",
    "    workers=3,\n",
    "    return_sorted=None,\n",
    "    return_length=True,\n",
    ")\n",
    "n_pts_r222 = n_pts_r222 - 1\n",
    "\n",
    "\n",
    "print(\"Perform Distance Query: 444 m\")\n",
    "n_pts_r444 = tree_idx.query_ball_point(\n",
    "    list(zip(c_alerts_gdf.geometry.x, c_alerts_gdf.geometry.y)),\n",
    "    r=pxl_size * 20, # 444 m,\n",
    "    p=2.0,\n",
    "    eps=0,\n",
    "    workers=3,\n",
    "    return_sorted=None,\n",
    "    return_length=True,\n",
    ")\n",
    "n_pts_r444 = n_pts_r444 - 1\n",
    "\n",
    "print(\"Perform Distance Query: 2222 m\")\n",
    "n_pts_r2222 = tree_idx.query_ball_point(\n",
    "    list(zip(c_alerts_gdf.geometry.x, c_alerts_gdf.geometry.y)),\n",
    "    r=pxl_size * 100, # 2222 m,\n",
    "    p=2.0,\n",
    "    eps=0,\n",
    "    workers=3,\n",
    "    return_sorted=None,\n",
    "    return_length=True,\n",
    ")\n",
    "n_pts_r2222 = n_pts_r2222 - 1\n",
    "\n",
    "# Add the counts to the output vector layer:\n",
    "c_alerts_gdf[\"n_pts_r2222\"] = n_pts_r2222\n",
    "c_alerts_gdf[\"n_pts_r444\"] = n_pts_r444\n",
    "c_alerts_gdf[\"n_pts_r222\"] = n_pts_r222"
   ]
  },
  {
   "cell_type": "markdown",
   "id": "7fd34725-e299-4b67-a684-29f3a71ec12b",
   "metadata": {},
   "source": [
    "## Apply Thresholds to identify isolated alerts \n",
    "\n",
    "These are more likely to be errors and need some QA. "
   ]
  },
  {
   "cell_type": "code",
   "execution_count": null,
   "id": "0b318ee5-61b8-44a2-82e9-28fbb4f97f3a",
   "metadata": {},
   "outputs": [],
   "source": [
    "#(\"n_pts_r2222\" < 2) or (( \"n_pts_r444\" < 5) and (\"n_pts_r222\" < 4)) or (\"n_pts_r222\" < 3)\n",
    "\n",
    "n_pts_r2222_msk = (n_pts_r2222 < 2)\n",
    "n_pts_r444_msk = numpy.logical_and(n_pts_r444 < 5, n_pts_r222 < 4)\n",
    "n_pts_r222_msk = (n_pts_r222 < 3)\n",
    "\n",
    "c_alerts_gdf[\"iso_pt\"] = numpy.logical_or(numpy.logical_or(n_pts_r2222_msk, n_pts_r444_msk), n_pts_r222_msk)"
   ]
  },
  {
   "cell_type": "markdown",
   "id": "29abb3fc-f22a-4b29-9003-d7c6389d7e1e",
   "metadata": {},
   "source": [
    "## Export the layer with the extra attributes:"
   ]
  },
  {
   "cell_type": "code",
   "execution_count": null,
   "id": "6147a830-0e27-444c-b139-b6e25a68ff57",
   "metadata": {},
   "outputs": [],
   "source": [
    "out_alerts_vec_lyr = f\"gmw_alerts_{c_year}_{c_month_str}_v1_isopts\"\n",
    "out_alerts_vec_file = f\"{out_alerts_vec_lyr}.gpkg\"\n",
    "\n",
    "c_alerts_gdf.to_file(out_alerts_vec_file, layer=out_alerts_vec_lyr, driver=\"GPKG\")"
   ]
  }
 ],
 "metadata": {
  "kernelspec": {
   "display_name": "Python 3 (ipykernel)",
   "language": "python",
   "name": "python3"
  },
  "language_info": {
   "codemirror_mode": {
    "name": "ipython",
    "version": 3
   },
   "file_extension": ".py",
   "mimetype": "text/x-python",
   "name": "python",
   "nbconvert_exporter": "python",
   "pygments_lexer": "ipython3",
   "version": "3.10.10"
  }
 },
 "nbformat": 4,
 "nbformat_minor": 5
}
