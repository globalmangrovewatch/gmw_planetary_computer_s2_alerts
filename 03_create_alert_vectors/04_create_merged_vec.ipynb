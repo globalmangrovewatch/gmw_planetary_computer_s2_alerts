{
 "cells": [
  {
   "cell_type": "markdown",
   "id": "da6dcc3e-e79b-4e2b-bbf4-92b62e874bf8",
   "metadata": {},
   "source": [
    "# Notebook to Download Monthly Alerts and Merge into a Single File"
   ]
  },
  {
   "cell_type": "code",
   "execution_count": null,
   "id": "5f1c2722-8749-42f9-b089-824e95e9e9a9",
   "metadata": {},
   "outputs": [],
   "source": [
    "import os\n",
    "import numpy\n",
    "import datetime\n",
    "import json\n",
    "import shutil\n",
    "import geopandas\n",
    "import pandas\n",
    "from azure.storage.blob import BlobClient, ContainerClient"
   ]
  },
  {
   "cell_type": "code",
   "execution_count": null,
   "id": "9b2a72a4-6e66-4f2a-989d-609309dc48e7",
   "metadata": {},
   "outputs": [],
   "source": [
    "def zero_pad_num_str(\n",
    "    num_val: float,\n",
    "    str_len: int = 3,\n",
    "    round_num: bool = False,\n",
    "    round_n_digts: int = 0,\n",
    "    integerise: bool = False,\n",
    "    absolute: bool = False,\n",
    "    gain: float = 1,\n",
    ") -> str:\n",
    "    if absolute:\n",
    "        num_val = abs(num_val)\n",
    "    if round_num:\n",
    "        num_val = round(num_val, round_n_digts)\n",
    "    if integerise:\n",
    "        num_val = int(num_val * gain)\n",
    "\n",
    "    num_str = \"{}\".format(num_val)\n",
    "    num_str = num_str.zfill(str_len)\n",
    "    return num_str"
   ]
  },
  {
   "cell_type": "code",
   "execution_count": null,
   "id": "cc9bd98d-d1ea-433f-88df-e8e50ea3e190",
   "metadata": {},
   "outputs": [],
   "source": [
    "sas_info_file = \"/home/jovyan/azure_info.json\"\n",
    "with open(sas_info_file) as f:\n",
    "    sas_token_info = json.load(f)\n",
    "    \n",
    "tmp_dir = \"tmp_lcl\"\n",
    "if not os.path.exists(tmp_dir):\n",
    "    os.mkdir(tmp_dir)"
   ]
  },
  {
   "cell_type": "markdown",
   "id": "8f0c85b3-765f-4208-80f7-7e4c83ab2bda",
   "metadata": {},
   "source": [
    "## Define the years and months to be included. \n",
    "\n",
    "### Jan 2019 -- Oct 2020\n",
    "\n",
    "```\n",
    "years = [2019, 2020, 2021, 2022]\n",
    "months = [1,2,3,4,5,6,7,8,9,10,11,12]\n",
    "\n",
    "e_year = 2022\n",
    "e_month = 11\n",
    "```\n",
    "\n",
    "### Jan 2019 -- Dec 2022\n",
    "\n",
    "```\n",
    "years = [2019, 2020, 2021, 2022, 2023]\n",
    "months = [1,2,3,4,5,6,7,8,9,10,11,12]\n",
    "\n",
    "e_year = 2023\n",
    "e_month = 1\n",
    "```\n",
    "\n",
    "\n",
    "### Jan 2019 -- Jan 2023\n",
    "\n",
    "```\n",
    "years = [2019, 2020, 2021, 2022, 2023]\n",
    "months = [1,2,3,4,5,6,7,8,9,10,11,12]\n",
    "\n",
    "e_year = 2023\n",
    "e_month = 2\n",
    "```\n",
    "\n"
   ]
  },
  {
   "cell_type": "code",
   "execution_count": null,
   "id": "58e162d6-c338-42f8-ae72-9302090cb5ae",
   "metadata": {},
   "outputs": [],
   "source": [
    "years = [2019, 2020, 2021, 2022]\n",
    "months = [1,2,3,4,5,6,7,8,9,10,11,12]\n",
    "\n",
    "e_year = 2022\n",
    "e_month = 11"
   ]
  },
  {
   "cell_type": "markdown",
   "id": "b69ffcff-08e4-4972-a7a7-29cab1eac505",
   "metadata": {},
   "source": [
    "## Iterate months downloading the QA'd Alerts and Merging into a single DataFrame:"
   ]
  },
  {
   "cell_type": "code",
   "execution_count": null,
   "id": "da693eeb-2738-4b61-a977-e7568600e151",
   "metadata": {},
   "outputs": [],
   "source": [
    "alerts_lst = list()\n",
    "for c_year in years:\n",
    "    print(c_year)\n",
    "    for c_month in months:\n",
    "        print(f\"\\t{c_month}\")\n",
    "        if (c_year == e_year) and (c_month == e_month):\n",
    "            break\n",
    "        c_month_str = zero_pad_num_str(c_month, str_len=2)\n",
    "        # Find check if alerts vector exists for the month specified and download if it does exist\n",
    "        alerts_vec_lyr = f\"{c_year}_{c_month_str}\"\n",
    "        alerts_vec_file = f\"gmw_alerts_{alerts_vec_lyr}_qad_v1.parquet.gzip\"\n",
    "        alerts_vec_file_url = os.path.join(sas_token_info[\"url\"], \"monthly_alert_qad_vecs\", alerts_vec_file)\n",
    "        alerts_vec_file_url_signed = f\"{alerts_vec_file_url}?{sas_token_info['sas_token']}\"\n",
    "        alerts_vec_blob_client = BlobClient.from_blob_url(alerts_vec_file_url_signed)\n",
    "        if not alerts_vec_blob_client.exists():\n",
    "            raise Exception(\"A vector alerts file does not exist for the month/year specified - have you generated?\")\n",
    "\n",
    "        alerts_vec_lcl_file = os.path.join(tmp_dir, alerts_vec_file)\n",
    "        with open(file=alerts_vec_lcl_file, mode=\"wb\") as download_file:\n",
    "            download_file.write(alerts_vec_blob_client.download_blob().readall())\n",
    "        alerts_vec_blob_client = None\n",
    "\n",
    "        # Read the downloaded vector layer into geopandas\n",
    "        alerts_gdf = geopandas.read_parquet(alerts_vec_lcl_file)\n",
    "        alerts_gdf = alerts_gdf.set_crs(epsg=4326, allow_override=True)\n",
    "              \n",
    "        alerts_gdf.rename(columns={\"obs_year\": \"firstobsyear\",\n",
    "                                   \"obs_year\": \"firstobsyear\", \n",
    "                                   \"obs_month\": \"firstobsmonth\", \n",
    "                                   \"obs_day\": \"firstobsday\", \n",
    "                                   \"obs_date\":\"first_obs_date\", \n",
    "                                   \"conf_year\": \"scr5obsyear\", \n",
    "                                   \"conf_month\": \"scr5obsmonth\", \n",
    "                                   \"conf_day\": \"scr5obsday\", \n",
    "                                   \"conf_date\":\"scr5_obs_date\", \n",
    "                                   \"lats\":\"latitude\", \n",
    "                                   \"lons\":\"longitude\"}, inplace=True)\n",
    "        \n",
    "        alerts_gdf[\"lastobsyear\"] = alerts_gdf[\"scr5obsyear\"]\n",
    "        alerts_gdf[\"lastobsmonth\"] = alerts_gdf[\"scr5obsmonth\"]\n",
    "        alerts_gdf[\"lastobsday\"] = alerts_gdf[\"scr5obsday\"]\n",
    "        alerts_gdf[\"last_obs_date\"] = alerts_gdf[\"scr5_obs_date\"]\n",
    "        alerts_gdf[\"confident\"] = alerts_gdf[\"score\"]\n",
    "        alerts_gdf[\"created_at\"]= datetime.datetime.today()\n",
    "        \n",
    "        alerts_lst.append(alerts_gdf)\n",
    "    if (c_year == e_year) and (c_month == e_month):\n",
    "        break\n",
    "\n",
    "alerts_gdf = pandas.concat(alerts_lst)\n",
    "alerts_gdf = alerts_gdf.set_crs(epsg=4326, allow_override=True)\n",
    "alerts_gdf[\"uid\"] = numpy.arange(1, (alerts_gdf.shape[0]) + 1, 1, dtype=int)\n",
    "alerts_gdf[\"id\"] = alerts_gdf[\"uid\"]\n",
    "alerts_gdf.drop(columns=[\"rm_qa\"], inplace=True)"
   ]
  },
  {
   "cell_type": "markdown",
   "id": "a25b2549-bc15-49bb-8be9-bdfd1e7de5fc",
   "metadata": {},
   "source": [
    "## The total number of alerts:"
   ]
  },
  {
   "cell_type": "code",
   "execution_count": null,
   "id": "f74df8ba-800f-4c40-8acd-dab3961af0b3",
   "metadata": {},
   "outputs": [],
   "source": [
    "len(alerts_gdf)"
   ]
  },
  {
   "cell_type": "markdown",
   "id": "df21303e-cbd7-455a-bb9b-58fbf6b88b22",
   "metadata": {},
   "source": [
    "## Export to vector layers"
   ]
  },
  {
   "cell_type": "code",
   "execution_count": null,
   "id": "e70adedf-f990-49d0-a686-ebf7ebd30a5f",
   "metadata": {},
   "outputs": [],
   "source": [
    "out_lyr_name = \"gmw_alerts_all_202210_qad_v1\"\n",
    "\n",
    "out_alerts_vec_pq_file = f\"{out_lyr_name}.parquet.gzip\"\n",
    "alerts_gdf.to_parquet(out_alerts_vec_pq_file, compression='gzip')\n",
    "\n",
    "out_alerts_vec_file = f\"{out_lyr_name}.gpkg\"\n",
    "alerts_gdf.to_file(out_alerts_vec_file, layer=out_lyr_name, driver=\"GPKG\")\n"
   ]
  },
  {
   "cell_type": "markdown",
   "id": "815a099e-55d8-4fb3-bf4c-95451083a982",
   "metadata": {},
   "source": [
    "## Remove Temporary Directory"
   ]
  },
  {
   "cell_type": "code",
   "execution_count": null,
   "id": "e7223aed-2317-4011-af71-264c28e018f7",
   "metadata": {},
   "outputs": [],
   "source": [
    "shutil.rmtree(tmp_dir)"
   ]
  },
  {
   "cell_type": "code",
   "execution_count": null,
   "id": "f537f048-9de6-42c5-b3bc-62ed3cfefcfa",
   "metadata": {},
   "outputs": [],
   "source": []
  },
  {
   "cell_type": "code",
   "execution_count": null,
   "id": "2af57769-9271-403f-96c9-991f0a9f30c2",
   "metadata": {},
   "outputs": [],
   "source": []
  },
  {
   "cell_type": "code",
   "execution_count": null,
   "id": "3dd5f5c7-3dbf-41fa-9285-0fb6442d6ef3",
   "metadata": {},
   "outputs": [],
   "source": []
  }
 ],
 "metadata": {
  "kernelspec": {
   "display_name": "Python 3 (ipykernel)",
   "language": "python",
   "name": "python3"
  },
  "language_info": {
   "codemirror_mode": {
    "name": "ipython",
    "version": 3
   },
   "file_extension": ".py",
   "mimetype": "text/x-python",
   "name": "python",
   "nbconvert_exporter": "python",
   "pygments_lexer": "ipython3",
   "version": "3.10.6"
  }
 },
 "nbformat": 4,
 "nbformat_minor": 5
}
